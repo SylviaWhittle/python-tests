{
 "cells": [
  {
   "cell_type": "code",
   "execution_count": 21,
   "metadata": {},
   "outputs": [
    {
     "name": "stdout",
     "output_type": "stream",
     "text": [
      "Variables reset\n"
     ]
    }
   ],
   "source": [
    "%reset\n",
    "print('Variables reset')"
   ]
  },
  {
   "cell_type": "code",
   "execution_count": 75,
   "metadata": {},
   "outputs": [
    {
     "name": "stdout",
     "output_type": "stream",
     "text": [
      "Finished imports at 11:04:24\n"
     ]
    }
   ],
   "source": [
    "import numpy as np\n",
    "from datetime import datetime\n",
    "import matplotlib.pyplot as plt\n",
    "import math\n",
    "\n",
    "now = datetime.now()\n",
    "current_time = now.strftime(\"%H:%M:%S\")\n",
    "print(f\"Finished imports at {current_time}\")"
   ]
  },
  {
   "cell_type": "code",
   "execution_count": 76,
   "metadata": {},
   "outputs": [
    {
     "name": "stdout",
     "output_type": "stream",
     "text": [
      "Steps between outputs: 100.0\n",
      "0.0 2.170320179\n",
      "0.10000000000000007 2.170093292948492\n",
      "0.20000000000000015 2.1685131947430443\n",
      "0.3000000000000002 2.1642978583688484\n",
      "0.4000000000000003 2.1563892077170883\n",
      "0.5000000000000003 2.144173073496202\n",
      "0.6000000000000004 2.127699632414051\n",
      "0.7000000000000005 2.1078074739754284\n",
      "0.8000000000000006 2.0860572505358137\n",
      "0.9000000000000007 2.0644363771246237\n",
      "1.0000000000000007 2.0448957834644688\n",
      "1.0999999999999897 2.028875972497283\n",
      "1.1999999999999786 2.0170078834859075\n",
      "1.2999999999999676 2.0091006550305917\n",
      "1.3999999999999566 2.0043886417818886\n",
      "1.4999999999999456 2.001892123100468\n"
     ]
    }
   ],
   "source": [
    "# ODE to be solved\n",
    "# du/dt = -3t^2(u-2)\n",
    "def ode(u, t):\n",
    "    return -4.0 * t ** 2.0 * (u - 2.0)\n",
    "\n",
    "# Analytic solution\n",
    "def analytic(t, s):\n",
    "    return s * math.exp(-t ** 3.0) + 2.0\n",
    "\n",
    "# Storage arrays\n",
    "times = np.array([])\n",
    "us = np.array([])\n",
    "\n",
    "# Constants\n",
    "t0 = 0.0\n",
    "tn = 1.5\n",
    "n = 1500\n",
    "s = 0.170320179\n",
    "\n",
    "# Initial conditions\n",
    "u0 = 2 + s\n",
    "u = u0\n",
    "t = t0\n",
    "\n",
    "# Calculate step size\n",
    "h = (tn - t0)/n\n",
    "\n",
    "# Counter for displaying at correct times\n",
    "counter = 1\n",
    "# Number of steps between each output for time intervals of 0.1\n",
    "factor = n/tn * 0.1\n",
    "print(f\"Steps between outputs: {factor}\")\n",
    "\n",
    "# Always output initial values at t = 0\n",
    "print(f\"{t} {u}\")\n",
    "\n",
    "# First step - Euler's method\n",
    "fnew = ode(u, t)    # Calculate new function value\n",
    "u = u0 + h * fnew   # Calculate next value for u\n",
    "fold = fnew         # Store f\n",
    "t = t + h           # Update t\n",
    "\n",
    "# Store output\n",
    "us = np.append(us, u)\n",
    "times = np.append(times, t)\n",
    "\n",
    "# Output if time is multiple of 0.1\n",
    "if(counter % factor == 0):\n",
    "    print(f\"{t} {u}\")\n",
    "counter += 1\n",
    "\n",
    "# Adams-Bashforth 2nd order method\n",
    "for i in range(n - 1):\n",
    "    fnew = ode(u, t)                    # Calculate new f\n",
    "    u = u + h/2.0 * (3 * fnew - fold)   # Calculate next u\n",
    "    fold = fnew                         # Store f\n",
    "    t = t + h                           # Update t\n",
    "\n",
    "\n",
    "    # Store output\n",
    "    us = np.append(us, u)\n",
    "    times = np.append(times, t)\n",
    "    \n",
    "    # Output if time is multiple of 0.1\n",
    "    if(counter % factor == 0):\n",
    "        print(f\"{t} {u}\")\n",
    "    counter += 1\n",
    "\n",
    "# Set numeric output \n",
    "u_numeric = u\n",
    "\n",
    "# Calculate analytic output result and error\n",
    "u_analytic = analytic(tn, s)\n",
    "abs_err = abs(u_analytic - u_numeric)\n",
    "\n",
    "# print(f\"h^2: {h**2}\")\n",
    "# print(f\"u_analytic: {u_analytic}\")\n",
    "# print(f\"u_numeric: {u_numeric}\")\n",
    "# print(f\"abs_err: {abs_err}\")"
   ]
  },
  {
   "cell_type": "code",
   "execution_count": 77,
   "metadata": {},
   "outputs": [
    {
     "data": {
      "text/plain": [
       "<function matplotlib.pyplot.show(close=None, block=None)>"
      ]
     },
     "execution_count": 77,
     "metadata": {},
     "output_type": "execute_result"
    },
    {
     "data": {
      "image/png": "[encoded data removed]",
      "text/plain": [
       "<Figure size 432x288 with 1 Axes>"
      ]
     },
     "metadata": {
      "needs_background": "light"
     },
     "output_type": "display_data"
    }
   ],
   "source": [
    "plt.plot(times, us)\n",
    "plt.show"
   ]
  }
 ],
 "metadata": {
  "interpreter": {
   "hash": "aa56e580984b1a296971f30442bc61f958095fd323e4c40315b6131b45c51ee0"
  },
  "kernelspec": {
   "display_name": "Python 3.9.7 64-bit",
   "language": "python",
   "name": "python3"
  },
  "language_info": {
   "name": "python",
   "version": "3.9.7"
  },
  "orig_nbformat": 4
 },
 "nbformat": 4,
 "nbformat_minor": 2
}
