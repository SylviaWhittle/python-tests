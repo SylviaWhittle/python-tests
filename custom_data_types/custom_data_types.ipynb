{
 "cells": [
  {
   "cell_type": "code",
   "execution_count": null,
   "metadata": {},
   "outputs": [],
   "source": [
    "import numpy as np\n",
    "import matplotlib.pyplot as plt"
   ]
  },
  {
   "cell_type": "code",
   "execution_count": null,
   "metadata": {},
   "outputs": [],
   "source": [
    "# Create a custom image and mask class to distinguish between the two\n",
    "class Image:\n",
    "    def __init__(self, data):\n",
    "        self.data = data\n",
    "\n",
    "    def show(self):\n",
    "        plt.imshow(self.data, cmap=\"gray\")\n",
    "        plt.show()\n",
    "\n",
    "    def __add__(self, other):\n",
    "        return Image(self.data + other.data)\n",
    "\n",
    "    def __sub__(self, other):\n",
    "        return Image(self.data - other.data)\n",
    "\n",
    "    def __mul__(self, other):\n",
    "        return Image(self.data * other.data)\n",
    "\n",
    "    def __truediv__(self, other):\n",
    "        return Image(self.data / other.data)\n",
    "\n",
    "    def __pow__(self, other):\n",
    "        return Image(self.data**other.data)\n",
    "\n",
    "    def __neg__(self):\n",
    "        return Image(-self.data)\n",
    "\n",
    "    def __abs__(self):\n",
    "        return Image(abs(self.data))\n",
    "\n",
    "    def __getitem__(self, key):\n",
    "        return Image(self.data[key])\n",
    "\n",
    "    def __setitem__(self, key, value):\n",
    "        self.data[key] = value.data\n",
    "\n",
    "    def __repr__(self):\n",
    "        return f\"Image({self.data})\"\n",
    "\n",
    "\n",
    "class Mask:\n",
    "    def __init__(self, data):\n",
    "        self.data = data\n",
    "\n",
    "    def show(self):\n",
    "        plt.imshow(self.data, cmap=\"gray\")\n",
    "        plt.show()\n",
    "\n",
    "    def __add__(self, other):\n",
    "        return Mask(self.data + other.data)\n",
    "\n",
    "    def __sub__(self, other):\n",
    "        return Mask(self.data - other.data)\n",
    "\n",
    "    def __mul__(self, other):\n",
    "        return Mask(self.data * other.data)\n",
    "\n",
    "    def __truediv__(self, other):\n",
    "        return Mask(self.data / other.data)\n",
    "\n",
    "    def __pow__(self, other):\n",
    "        return Mask(self.data**other.data)\n",
    "\n",
    "    def __neg__(self):\n",
    "        return Mask(-self.data)\n",
    "\n",
    "    def __abs__(self):\n",
    "        return Mask(abs(self.data))\n",
    "\n",
    "    def __getitem__(self, key):\n",
    "        return Mask(self.data[key])\n",
    "\n",
    "    def __setitem__(self, key, value):\n",
    "        self.data[key] = value.data\n",
    "\n",
    "    def __repr__(self):\n",
    "        return f\"Mask({self.data})\""
   ]
  },
  {
   "cell_type": "code",
   "execution_count": null,
   "metadata": {},
   "outputs": [],
   "source": [
    "image = Image(np.random.rand(64, 64))\n",
    "image.show()\n",
    "plt.show()\n",
    "\n",
    "mask = Mask(np.zeros((64, 64)))\n",
    "mask.data[32, 32:44] = 1\n",
    "mask.show()"
   ]
  },
  {
   "cell_type": "code",
   "execution_count": null,
   "metadata": {},
   "outputs": [],
   "source": [
    "def threshold_image(image: Image, threshold: float) -> Mask:\n",
    "    return Mask(image.data > threshold)\n",
    "\n",
    "\n",
    "threshold_image(image, 0.5).show()"
   ]
  }
 ],
 "metadata": {
  "kernelspec": {
   "display_name": "new",
   "language": "python",
   "name": "python3"
  },
  "language_info": {
   "codemirror_mode": {
    "name": "ipython",
    "version": 3
   },
   "file_extension": ".py",
   "mimetype": "text/x-python",
   "name": "python",
   "nbconvert_exporter": "python",
   "pygments_lexer": "ipython3",
   "version": "3.10.9"
  }
 },
 "nbformat": 4,
 "nbformat_minor": 2
}
