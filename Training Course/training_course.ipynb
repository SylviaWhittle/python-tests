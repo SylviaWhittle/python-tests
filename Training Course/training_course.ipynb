{
 "cells": [
  {
   "cell_type": "markdown",
   "metadata": {},
   "source": [
    "# Python Training Course\n",
    "### Sylvia Whittle\n",
    "---"
   ]
  },
  {
   "cell_type": "markdown",
   "metadata": {},
   "source": [
    "## First program\n",
    "\n",
    "### Printing \n",
    "The `print()` command prints text and values to the Python console. "
   ]
  },
  {
   "cell_type": "code",
   "execution_count": 4,
   "metadata": {},
   "outputs": [
    {
     "name": "stdout",
     "output_type": "stream",
     "text": [
      "test!\n"
     ]
    }
   ],
   "source": [
    "print('test!')"
   ]
  },
  {
   "cell_type": "markdown",
   "metadata": {},
   "source": [
    "### Comments\n",
    "Comments are lines that are not run as code and can be used to describe what you are doing. This is helpful to everyone that reads your code, as well as your future self. You will forget what your code does, so it's a good idea to leave explanations.\n",
    "\n",
    "Comments can be added by putting a `#` at the start of the line:"
   ]
  },
  {
   "cell_type": "code",
   "execution_count": 5,
   "metadata": {},
   "outputs": [],
   "source": [
    "# This code prints 'test' to the console."
   ]
  },
  {
   "cell_type": "markdown",
   "metadata": {},
   "source": [
    "## Errors\n",
    "\n",
    "Errors are inevitable when writing code. There will always be unexpected results, and that is okay. The **Python terminal** will notice them and tell you where things went wrong:"
   ]
  },
  {
   "cell_type": "code",
   "execution_count": 6,
   "metadata": {},
   "outputs": [
    {
     "ename": "NameError",
     "evalue": "name 'pront' is not defined",
     "output_type": "error",
     "traceback": [
      "\u001b[0;31m---------------------------------------------------------------------------\u001b[0m",
      "\u001b[0;31mNameError\u001b[0m                                 Traceback (most recent call last)",
      "\u001b[0;32m/var/folders/sr/wjtfqr9s6x3bw1s647t649x80000gn/T/ipykernel_52262/2733929291.py\u001b[0m in \u001b[0;36m<module>\u001b[0;34m\u001b[0m\n\u001b[0;32m----> 1\u001b[0;31m \u001b[0mpront\u001b[0m\u001b[0;34m(\u001b[0m\u001b[0;34m'test!'\u001b[0m\u001b[0;34m)\u001b[0m\u001b[0;34m\u001b[0m\u001b[0;34m\u001b[0m\u001b[0m\n\u001b[0m",
      "\u001b[0;31mNameError\u001b[0m: name 'pront' is not defined"
     ]
    }
   ],
   "source": [
    "pront('test!')"
   ]
  },
  {
   "cell_type": "markdown",
   "metadata": {},
   "source": [
    "## Data types\n",
    "There are a few main data types in Python:\n",
    "- Integers (Ints)\n",
    "- Floats \n",
    "- Strings\n",
    "\n",
    "Integers, as in mathematics, are **whole numbers**, eg: 3, 0, -5. These are useful for storing discrete values, like the number of LEDs in a strip.\n",
    "\n",
    "Floats also store numerical information, however they store them in **decimal format**, eg: 4.3, -2.5, 1.0, 3.141592653589793... They are useful for all sorts of **continuous value** data, such as time, cost, temperature.\n",
    "\n",
    "Strings are **text**, they allow you to store text and print or manipulate it, like how we did with the `print('test!')` code. Strings always have quotes surrounding them.\n",
    "\n",
    "Python is a **dynamicly typed** language, meaning that you don't need to tell Python what data type a variable is when you create it:"
   ]
  },
  {
   "cell_type": "code",
   "execution_count": 9,
   "metadata": {},
   "outputs": [
    {
     "name": "stdout",
     "output_type": "stream",
     "text": [
      "integer_1 is type: <class 'int'>\n",
      "float_1 is type: <class 'float'>\n",
      "string_1 is type: <class 'str'>\n"
     ]
    }
   ],
   "source": [
    "integer_1 = 5\n",
    "float_1 = 5.5\n",
    "string_1 = 'five'\n",
    "\n",
    "print('integer_1 is type: ' + str(type(integer_1)))\n",
    "print('float_1 is type: ' + str(type(float_1)))\n",
    "print('string_1 is type: ' + str(type(string_1)))"
   ]
  },
  {
   "cell_type": "markdown",
   "metadata": {},
   "source": [
    "## Converting data types\n",
    "\n",
    "You can convert data types using a feature called **casting**. You can do this by putting your variable into the function of the data type that you want to change it to:"
   ]
  },
  {
   "cell_type": "code",
   "execution_count": 10,
   "metadata": {},
   "outputs": [
    {
     "name": "stdout",
     "output_type": "stream",
     "text": [
      "float_1: 5.5\n",
      "integer_1: 5\n"
     ]
    }
   ],
   "source": [
    "float_1 = 5.5\n",
    "print('float_1: ' + str(float_1))\n",
    "integer_1 = int(float_1)\n",
    "print('integer_1: ' + str(integer_1))"
   ]
  },
  {
   "cell_type": "markdown",
   "metadata": {},
   "source": [
    "You can't always convert between datatypes though. You can't convert a string to an integer, because what would 'heya!' be as a number?"
   ]
  },
  {
   "cell_type": "code",
   "execution_count": 11,
   "metadata": {},
   "outputs": [
    {
     "ename": "ValueError",
     "evalue": "invalid literal for int() with base 10: 'heya!'",
     "output_type": "error",
     "traceback": [
      "\u001b[0;31m---------------------------------------------------------------------------\u001b[0m",
      "\u001b[0;31mValueError\u001b[0m                                Traceback (most recent call last)",
      "\u001b[0;32m/var/folders/sr/wjtfqr9s6x3bw1s647t649x80000gn/T/ipykernel_52262/1844985618.py\u001b[0m in \u001b[0;36m<module>\u001b[0;34m\u001b[0m\n\u001b[0;32m----> 1\u001b[0;31m \u001b[0mprint\u001b[0m\u001b[0;34m(\u001b[0m\u001b[0mint\u001b[0m\u001b[0;34m(\u001b[0m\u001b[0;34m'heya!'\u001b[0m\u001b[0;34m)\u001b[0m\u001b[0;34m)\u001b[0m\u001b[0;34m\u001b[0m\u001b[0;34m\u001b[0m\u001b[0m\n\u001b[0m",
      "\u001b[0;31mValueError\u001b[0m: invalid literal for int() with base 10: 'heya!'"
     ]
    }
   ],
   "source": [
    "print(int('heya!'))"
   ]
  },
  {
   "cell_type": "code",
   "execution_count": null,
   "metadata": {},
   "outputs": [],
   "source": []
  }
 ],
 "metadata": {
  "kernelspec": {
   "display_name": "Python 3.10.4 64-bit",
   "language": "python",
   "name": "python3"
  },
  "language_info": {
   "codemirror_mode": {
    "name": "ipython",
    "version": 3
   },
   "file_extension": ".py",
   "mimetype": "text/x-python",
   "name": "python",
   "nbconvert_exporter": "python",
   "pygments_lexer": "ipython3",
   "version": "3.10.4"
  },
  "orig_nbformat": 4,
  "vscode": {
   "interpreter": {
    "hash": "aee8b7b246df8f9039afb4144a1f6fd8d2ca17a180786b69acc140d282b71a49"
   }
  }
 },
 "nbformat": 4,
 "nbformat_minor": 2
}
