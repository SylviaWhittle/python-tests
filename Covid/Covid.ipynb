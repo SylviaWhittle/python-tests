{
 "cells": [
  {
   "cell_type": "code",
   "execution_count": 18,
   "metadata": {},
   "outputs": [],
   "source": [
    "# link = 'https://api.coronavirus.data.gov.uk/v1/data'\n",
    "\n",
    "# Imports\n",
    "from uk_covid19 import Cov19API\n",
    "import pandas as pd\n",
    "\n",
    "\n",
    "# Filters\n",
    "england_only = ['areaType=nation',\n",
    "                'areaName=England'\n",
    "]\n",
    "\n",
    "# Structure\n",
    "cases_and_deaths = {\n",
    "    \"date\": \"date\",\n",
    "    \"areaName\": \"areaName\",\n",
    "    \"areaCode\": \"areaCode\",\n",
    "    \"newCasesByPublishDate\": \"newCasesByPublishDate\",\n",
    "    \"cumCasesByPublishDate\": \"cumCasesByPublishDate\",\n",
    "    \"newDeaths28DaysByDeathDate\": \"newDeaths28DaysByDeathDate\",\n",
    "    \"cumDeaths28DaysByDeathDate\": \"cumDeaths28DaysByDeathDate\"\n",
    "}\n",
    "\n",
    "# Instantiation : Use filters and structure to initialise the Covid19API object\n",
    "api = Cov19API(filters=england_only, structure=cases_and_deaths)\n",
    "\n",
    "# Extracting data\n",
    "data = api.get_json()\n",
    "\n",
    "#print(data)\n",
    "\n",
    "\n"
   ]
  },
  {
   "cell_type": "code",
   "execution_count": 6,
   "metadata": {},
   "outputs": [
    {
     "name": "stdout",
     "output_type": "stream",
     "text": [
      "2021-12-29T18:00:03.000000Z\n",
      "2021-12-29T18:00:03.330207Z\n"
     ]
    }
   ],
   "source": [
    "# Request API timestamp\n",
    "api_timestamp = api.last_update\n",
    "\n",
    "print(api_timestamp)\n",
    "\n",
    "release_timestamp = api.get_release_timestamp()\n",
    "print(release_timestamp)"
   ]
  },
  {
   "cell_type": "code",
   "execution_count": 21,
   "metadata": {},
   "outputs": [
    {
     "name": "stdout",
     "output_type": "stream",
     "text": [
      "{'data': [{'date': '2021-12-29', 'areaName': 'England', 'areaCode': 'E92000001', 'newCasesByPublishDate': 138287, 'cumCasesByPublishDate': 10683026, 'newDeaths28DaysByDeathDate': None, 'cumDeaths28DaysByDeathDate': None}, {'date': '2021-12-29', 'areaName': 'Northern Ireland', 'areaCode': 'N92000002', 'newCasesByPublishDate': 22972, 'cumCasesByPublishDate': 390153, 'newDeaths28DaysByDeathDate': None, 'cumDeaths28DaysByDeathDate': None}, {'date': '2021-12-29', 'areaName': 'Scotland', 'areaCode': 'S92000003', 'newCasesByPublishDate': 15849, 'cumCasesByPublishDate': 886065, 'newDeaths28DaysByDeathDate': None, 'cumDeaths28DaysByDeathDate': None}, {'date': '2021-12-29', 'areaName': 'Wales', 'areaCode': 'W92000004', 'newCasesByPublishDate': 5929, 'cumCasesByPublishDate': 600682, 'newDeaths28DaysByDeathDate': None, 'cumDeaths28DaysByDeathDate': None}], 'lastUpdate': '2021-12-29T18:00:03.000000Z', 'length': 4, 'totalPages': None}\n"
     ]
    }
   ],
   "source": [
    "# Latest data\n",
    "\n",
    "from uk_covid19 import Cov19API\n",
    "\n",
    "\n",
    "all_nations = [\n",
    "    \"areaType=nation\"\n",
    "]\n",
    "\n",
    "cases_and_deaths = {\n",
    "    \"date\": \"date\",\n",
    "    \"areaName\": \"areaName\",\n",
    "    \"areaCode\": \"areaCode\",\n",
    "    \"newCasesByPublishDate\": \"newCasesByPublishDate\",\n",
    "    \"cumCasesByPublishDate\": \"cumCasesByPublishDate\",\n",
    "    \"newDeaths28DaysByDeathDate\": \"newDeaths28DaysByDeathDate\",\n",
    "    \"cumDeaths28DaysByDeathDate\": \"cumDeaths28DaysByDeathDate\"\n",
    "}\n",
    "\n",
    "api = Cov19API(\n",
    "    filters=all_nations,\n",
    "    structure=cases_and_deaths,\n",
    "    latest_by=\"newCasesByPublishDate\"\n",
    ")\n",
    "\n",
    "data = api.get_json()\n",
    "\n",
    "print(data)"
   ]
  },
  {
   "cell_type": "code",
   "execution_count": 9,
   "metadata": {},
   "outputs": [
    {
     "name": "stdout",
     "output_type": "stream",
     "text": [
      "<bound method NDFrame.head of 0    {'date': '2021-12-29', 'areaName': 'England', ...\n",
      "1    {'date': '2021-12-29', 'areaName': 'Northern I...\n",
      "2    {'date': '2021-12-29', 'areaName': 'Scotland',...\n",
      "3    {'date': '2021-12-29', 'areaName': 'Wales', 'a...\n",
      "Name: data, dtype: object>\n"
     ]
    }
   ],
   "source": [
    "# Save the data\n",
    "\n",
    "from uk_covid19 import Cov19API\n",
    "import pandas as pd\n",
    "\n",
    "\n",
    "all_nations = [\n",
    "    \"areaType=nation\"\n",
    "]\n",
    "\n",
    "cases_and_deaths = {\n",
    "    \"date\": \"date\",\n",
    "    \"areaName\": \"areaName\",\n",
    "    \"areaCode\": \"areaCode\",\n",
    "    \"newCasesByPublishDate\": \"newCasesByPublishDate\",\n",
    "    \"cumCasesByPublishDate\": \"cumCasesByPublishDate\",\n",
    "    \"newDeaths28DaysByDeathDate\": \"newDeaths28DaysByDeathDate\",\n",
    "    \"cumDeaths28DaysByDeathDate\": \"cumDeaths28DaysByDeathDate\"\n",
    "}\n",
    "\n",
    "api = Cov19API(\n",
    "    filters=all_nations,\n",
    "    structure=cases_and_deaths,\n",
    "    latest_by=\"newCasesByPublishDate\"\n",
    ")\n",
    "\n",
    "api.get_json(save_as=\"data.json\")\n",
    "\n",
    "# Read from file using pandas\n",
    "df = pd.read_json('data.json')\n",
    "print(df.data.head)"
   ]
  },
  {
   "cell_type": "code",
   "execution_count": 13,
   "metadata": {},
   "outputs": [
    {
     "name": "stdout",
     "output_type": "stream",
     "text": [
      "         date areaName   areaCode  newCasesByPublishDate  \\\n",
      "0  2021-12-29  England  E92000001                 138287   \n",
      "1  2021-12-28  England  E92000001                 117093   \n",
      "2  2021-12-27  England  E92000001                  98515   \n",
      "3  2021-12-26  England  E92000001                 103558   \n",
      "4  2021-12-25  England  E92000001                 113628   \n",
      "\n",
      "   cumCasesByPublishDate  newDeaths28DaysByDeathDate  \\\n",
      "0               10683026                         NaN   \n",
      "1               10545584                         9.0   \n",
      "2               10429274                        23.0   \n",
      "3               10332128                        11.0   \n",
      "4               10229538                        10.0   \n",
      "\n",
      "   cumDeaths28DaysByDeathDate  \n",
      "0                         NaN  \n",
      "1                    128724.0  \n",
      "2                    128715.0  \n",
      "3                    128692.0  \n",
      "4                    128681.0  \n"
     ]
    }
   ],
   "source": [
    "# Pandas dataframes\n",
    "\n",
    "from uk_covid19 import Cov19API\n",
    "import pandas as pd\n",
    "\n",
    "all_nations = [\n",
    "    \"areaType=nation\"\n",
    "]\n",
    "\n",
    "cases_and_deaths = {\n",
    "    \"date\": \"date\",\n",
    "    \"areaName\": \"areaName\",\n",
    "    \"areaCode\": \"areaCode\",\n",
    "    \"newCasesByPublishDate\": \"newCasesByPublishDate\",\n",
    "    \"cumCasesByPublishDate\": \"cumCasesByPublishDate\",\n",
    "    \"newDeaths28DaysByDeathDate\": \"newDeaths28DaysByDeathDate\",\n",
    "    \"cumDeaths28DaysByDeathDate\": \"cumDeaths28DaysByDeathDate\"\n",
    "}\n",
    "\n",
    "api = Cov19API(\n",
    "    filters=all_nations,\n",
    "    structure=cases_and_deaths\n",
    ")\n",
    "\n",
    "df = api.get_dataframe()\n",
    "\n",
    "print(df.head())\n",
    "\n",
    "df.to_csv('pandasdata.csv')\n"
   ]
  },
  {
   "cell_type": "code",
   "execution_count": 68,
   "metadata": {},
   "outputs": [
    {
     "name": "stdout",
     "output_type": "stream",
     "text": [
      "Last 30 days: \n",
      "<bound method NDFrame.head of 1      24.0\n",
      "2      85.0\n",
      "3      73.0\n",
      "4      68.0\n",
      "5      49.0\n",
      "6      80.0\n",
      "7      94.0\n",
      "8      99.0\n",
      "9      79.0\n",
      "10     91.0\n",
      "11     84.0\n",
      "12     86.0\n",
      "13    103.0\n",
      "14     86.0\n",
      "15     94.0\n",
      "16    107.0\n",
      "17     86.0\n",
      "18    102.0\n",
      "19     75.0\n",
      "20     87.0\n",
      "21     97.0\n",
      "22     92.0\n",
      "23     94.0\n",
      "24    108.0\n",
      "25     91.0\n",
      "26    115.0\n",
      "27    108.0\n",
      "28     84.0\n",
      "29    103.0\n",
      "Name: newDeaths28DaysByDeathDate, dtype: float64>\n",
      "Startdate: 2021-12-01\n",
      "Enddate: 2021-12-30\n",
      "Cases: \n",
      "max cases: 146604\n",
      "min cases: 37396\n"
     ]
    },
    {
     "data": {
      "text/plain": [
       "<AxesSubplot:>"
      ]
     },
     "execution_count": 68,
     "metadata": {},
     "output_type": "execute_result"
    },
    {
     "data": {
      "image/png": "[encoded data removed]",
      "text/plain": [
       "<Figure size 432x288 with 1 Axes>"
      ]
     },
     "metadata": {
      "needs_background": "light"
     },
     "output_type": "display_data"
    }
   ],
   "source": [
    "# Imports\n",
    "from uk_covid19 import Cov19API\n",
    "import pandas as pd\n",
    "\n",
    "# Filters\n",
    "england_only = ['areaType=nation',\n",
    "                'areaName=England'\n",
    "]\n",
    "\n",
    "# Structure\n",
    "cases_and_deaths = {\n",
    "    \"date\": \"date\",\n",
    "    \"areaName\": \"areaName\",\n",
    "    \"areaCode\": \"areaCode\",\n",
    "    \"newCasesByPublishDate\": \"newCasesByPublishDate\",\n",
    "    \"cumCasesByPublishDate\": \"cumCasesByPublishDate\",\n",
    "    \"newDeaths28DaysByDeathDate\": \"newDeaths28DaysByDeathDate\",\n",
    "    \"cumDeaths28DaysByDeathDate\": \"cumDeaths28DaysByDeathDate\"\n",
    "}\n",
    "\n",
    "api = Cov19API(\n",
    "    filters=england_only,\n",
    "    structure=cases_and_deaths\n",
    ")\n",
    "\n",
    "df = api.get_dataframe()\n",
    "\n",
    "# print(df.head())\n",
    "\n",
    "# Cull data to only last 30 days\n",
    "daysToDisplay = 30\n",
    "df = df.head(daysToDisplay)\n",
    "print(f'Last {daysToDisplay} days: ')\n",
    "#print(df)\n",
    "\n",
    "df.to_csv('EnglandData.csv')\n",
    "startdate = df['date'].iloc[-1]\n",
    "enddate = df['date'].iloc[0]\n",
    "\n",
    "cases = df['newCasesByPublishDate']\n",
    "\n",
    "deaths = df['newDeaths28DaysByDeathDate']\n",
    "deaths = deaths[deaths.notna()]\n",
    "print(deaths.head)\n",
    "\n",
    "print(f'Startdate: {startdate}')\n",
    "print(f'Enddate: {enddate}')\n",
    "print('Cases: ')\n",
    "\n",
    "#print(cases.head)\n",
    "\n",
    "maxcases = cases.max()\n",
    "mincases = cases.min()\n",
    "range = maxcases - mincases\n",
    "print(f'max cases: {maxcases}')\n",
    "print(f'min cases: {mincases}')\n",
    "\n",
    "graphHeightInPixels = 30\n",
    "graphPixelsPerDay = 1\n",
    "\n",
    "casesPerPixel = range/graphHeightInPixels\n",
    "\n",
    "# Calculate the heights of the dataset\n",
    "heights = round((cases - mincases)/casesPerPixel)\n",
    "#print(heights.head)\n",
    "\n",
    "heights.plot()\n"
   ]
  },
  {
   "cell_type": "code",
   "execution_count": null,
   "metadata": {},
   "outputs": [],
   "source": []
  }
 ],
 "metadata": {
  "interpreter": {
   "hash": "5b1731e0e6fab58c15f4586f3f8582dae822219977d6ecd8bf61dfb9c36e7c34"
  },
  "kernelspec": {
   "display_name": "Python 3.9.7 64-bit",
   "language": "python",
   "name": "python3"
  },
  "language_info": {
   "codemirror_mode": {
    "name": "ipython",
    "version": 3
   },
   "file_extension": ".py",
   "mimetype": "text/x-python",
   "name": "python",
   "nbconvert_exporter": "python",
   "pygments_lexer": "ipython3",
   "version": "3.9.7"
  },
  "orig_nbformat": 4
 },
 "nbformat": 4,
 "nbformat_minor": 2
}
