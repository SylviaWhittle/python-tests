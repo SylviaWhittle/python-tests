{
 "cells": [
  {
   "cell_type": "code",
   "execution_count": 1,
   "metadata": {},
   "outputs": [],
   "source": [
    "import numpy as np\n",
    "from PIL import Image\n",
    "\n",
    "im = np.zeros((1024, 1024, 3),dtype=np.uint8)\n",
    "im.fill(0)\n",
    "\n",
    "xx = int(1024/2)\n",
    "yy = int(1024/2)\n",
    "for i in range(1024):\n",
    "    for j in range(1024):\n",
    "        if (512-i)**2 + (512-j)**2 < 500**2:\n",
    "            angle = np.arctan2(512 - j, 512 - i)\n",
    "            # if abs(angle) < np.pi:\n",
    "            dist = np.sqrt((((512-i)**2) + (512-j)**2))\n",
    "            # val = 255 - (255*(dist)/512) \n",
    "            # val = 255/(dist/5)\n",
    "            val = 255 * np.exp(-dist/80)\n",
    "            im[i, j, :] = (val, val, val)\n",
    "\n",
    "im = Image.fromarray(im)\n",
    "im.save(\"circle.png\")\n"
   ]
  }
 ],
 "metadata": {
  "kernelspec": {
   "display_name": "Python 3.10.4 ('venv': venv)",
   "language": "python",
   "name": "python3"
  },
  "language_info": {
   "codemirror_mode": {
    "name": "ipython",
    "version": 3
   },
   "file_extension": ".py",
   "mimetype": "text/x-python",
   "name": "python",
   "nbconvert_exporter": "python",
   "pygments_lexer": "ipython3",
   "version": "3.10.4"
  },
  "orig_nbformat": 4,
  "vscode": {
   "interpreter": {
    "hash": "fe13cf6fe9ef099f61808b128c1ea8743fed4050323d22ae11717cfb12cdbfba"
   }
  }
 },
 "nbformat": 4,
 "nbformat_minor": 2
}
