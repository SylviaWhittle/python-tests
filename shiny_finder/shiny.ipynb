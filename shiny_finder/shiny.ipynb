{
 "cells": [
  {
   "cell_type": "code",
   "execution_count": null,
   "metadata": {},
   "outputs": [],
   "source": [
    "import time\n",
    "import pyautogui as pg\n",
    "import cv2\n",
    "import numpy as np\n",
    "from mss import mss\n",
    "from PIL import Image"
   ]
  },
  {
   "cell_type": "code",
   "execution_count": null,
   "metadata": {},
   "outputs": [],
   "source": [
    "time.sleep(2)\n",
    "\n",
    "start = time.time()\n",
    "while time.time() - start < 2:\n",
    "    pg.press(\"Enter\")\n"
   ]
  },
  {
   "cell_type": "code",
   "execution_count": null,
   "metadata": {},
   "outputs": [],
   "source": [
    "def get_frame(vid: cv2.VideoCapture) -> numpy.ndarray:\n",
    "    _, frame = vid.read()\n",
    "    cv2.imshow('game', frame)\n",
    "    return frame\n",
    "\n",
    "def wait_and_render(vid: cv2.VideoCapture, t: float) -> None:\n",
    "    end = time.time() + t\n",
    "    while time.time() < end:\n",
    "        get_frame(vid)"
   ]
  },
  {
   "cell_type": "code",
   "execution_count": null,
   "metadata": {},
   "outputs": [],
   "source": [
    "# Setup\n",
    "# vid = cv2.VideoCapture(0)\n",
    "# while(True):\n",
    "#     ret, frame = vid.read()\n",
    "#     cv2.imshow('frame', frame)\n",
    "\n",
    "#     if cv2.waitKey(1) & 0xFF == ord('q'):\n",
    "#         break\n",
    "\n",
    "# # vid.set(cv2.CAP_PROP_FRAME_WIDTH, 500)\n",
    "# # vid.set(cv2.CAP_PROP_FRAME_HEIGHT, 500)\n",
    "# # wait_and_render(vid, 4)\n"
   ]
  },
  {
   "cell_type": "code",
   "execution_count": null,
   "metadata": {},
   "outputs": [],
   "source": [
    "import time\n",
    "import pyautogui as pg\n",
    "import cv2\n",
    "import numpy as np\n",
    "from mss import mss\n",
    "from PIL import Image"
   ]
  },
  {
   "cell_type": "code",
   "execution_count": null,
   "metadata": {},
   "outputs": [],
   "source": [
    "mon = {'left': 280, 'top': 800, 'width': 50, 'height': 50}\n",
    "\n",
    "with mss() as sct:\n",
    "    while True:\n",
    "        time.sleep(1)\n",
    "        screenShot = sct.grab(mon)\n",
    "        img = np.array(Image.frombytes(\n",
    "            'RGB', \n",
    "            (screenShot.width, screenShot.height), \n",
    "            screenShot.rgb, \n",
    "        ))\n",
    "        cv2.imshow('test', img)\n",
    "        print(img[0, 0])\n",
    "        if cv2.waitKey(33) & 0xFF in (\n",
    "            ord('q'), \n",
    "            27, \n",
    "        ):\n",
    "            break\n",
    "    cv2.destroyAllWindows()\n"
   ]
  },
  {
   "cell_type": "code",
   "execution_count": null,
   "metadata": {},
   "outputs": [],
   "source": [
    "# def wait_for_text_box(wait_for_non_text_box: bool = False):\n",
    "#     start = time.time()\n",
    "#     with mss() as sct:\n",
    "#         while True:\n",
    "#             screenShot = sct.grab(mon)\n",
    "#             img = np.array(Image.frombytes(\n",
    "#                 'RGB', \n",
    "#                 (screenShot.width, screenShot.height), \n",
    "#                 screenShot.rgb, \n",
    "#             ))\n",
    "#             if wait_for_non_text_box:\n",
    "#                 if not np.all(img[0, 0, 0] > 60):\n",
    "#                     return\n",
    "#             else:\n",
    "#                 if np.all(img[0, 0, 0] > 60):\n",
    "#                     print('text box!')\n",
    "#                     return time.time() - start\n",
    "#             cv2.imshow('test', img)\n",
    "#             if cv2.waitKey(33) & 0xFF in (\n",
    "#                 ord('q'), \n",
    "#                 27, \n",
    "#             ):\n",
    "#                 break\n",
    "#         cv2.destroyAllWindows()"
   ]
  },
  {
   "cell_type": "markdown",
   "metadata": {},
   "source": [
    "A - interact with tower\n",
    "A - dismiss 'Yulaaah' text box\n",
    "ENTER BATTLE\n",
    "White box \n",
    "! Between 1st and 2nd box, delay.\n",
    "White box\n",
    "ANIMATION END\n",
    "\n",
    "text box!\n",
    "text box in: 2.1105849742889404 seconds\n",
    "text box!\n",
    "text box in: 2.1045026779174805 seconds\n",
    "text box!\n",
    "text box in: 2.2162625789642334 seconds\n",
    "text box!\n",
    "text box in: 0.48847317695617676 seconds\n",
    "text box!\n",
    "text box in: 2.8159055709838867 seconds\n",
    "text box!\n",
    "text box in: 1.2009975910186768 seconds\n",
    "text box!\n",
    "text box in: 0.6056551933288574 seconds\n",
    "text box!\n",
    "text box in: 0.24792003631591797 seconds\n",
    "\n",
    "\n",
    "\n",
    "\n",
    "\n",
    "You encoutnered a wild spiritomb!\n",
    "DELAY\n",
    "Go on -pokemon-!\n",
    "\n",
    "DELAY: \n",
    "0.6\n",
    "0.533642053604126\n",
    "0.5822248458862305\n",
    "\n",
    "DELAY SHINY : 4s\n",
    "\n",
    "\n"
   ]
  },
  {
   "cell_type": "code",
   "execution_count": null,
   "metadata": {},
   "outputs": [],
   "source": [
    "# while True:\n",
    "#     time_for_text_box = wait_for_text_box()\n",
    "#     print(f'text box in: {time_for_text_box} seconds')\n",
    "#     wait_for_text_box(wait_for_non_text_box=True)"
   ]
  },
  {
   "cell_type": "code",
   "execution_count": 2,
   "metadata": {},
   "outputs": [],
   "source": [
    "import time\n",
    "import pyautogui as pg\n",
    "import cv2\n",
    "import numpy as np\n",
    "from mss import mss\n",
    "from PIL import Image"
   ]
  },
  {
   "cell_type": "code",
   "execution_count": 9,
   "metadata": {},
   "outputs": [],
   "source": [
    "def wait_for_text_box(wait_for_close: bool = False) -> float:\n",
    "    start = time.time()\n",
    "    with mss() as sct:\n",
    "        while True:\n",
    "            screenShot = sct.grab(mon)\n",
    "            img = np.array(Image.frombytes(\n",
    "                'RGB', \n",
    "                (screenShot.width, screenShot.height), \n",
    "                screenShot.rgb, \n",
    "            ))\n",
    "            if wait_for_close:\n",
    "                if not np.allclose(img[0, 0], [255, 255, 255]):\n",
    "                    break\n",
    "            else:\n",
    "                if np.allclose(img[0, 0], [255, 255, 255]):\n",
    "                    print('text box!')\n",
    "                    cv2.destroyAllWindows()\n",
    "                    return time.time() - start\n",
    "            cv2.imshow('test', img)\n",
    "            if cv2.waitKey(33) & 0xFF in (\n",
    "                ord('q'), \n",
    "                27, \n",
    "            ):\n",
    "                break\n",
    "        cv2.destroyAllWindows()\n",
    "        return -1\n",
    "\n",
    "def press(key: str, duration: float = 0.5):\n",
    "    start = time.time()\n",
    "    while time.time() - start < duration:\n",
    "        pg.press(key)"
   ]
  },
  {
   "cell_type": "code",
   "execution_count": 9,
   "metadata": {},
   "outputs": [],
   "source": [
    "time.sleep(5)\n",
    "\n",
    "while True:\n",
    "    # HOME\n",
    "    press(\"[\")\n",
    "    # DELAY 1s\n",
    "    time.sleep(1)\n",
    "    # X\n",
    "    press(\"I\")\n",
    "    # DELAY 1s\n",
    "    time.sleep(1)\n",
    "    # A\n",
    "    press(\"L\")\n",
    "    # DELAY 1s\n",
    "    time.sleep(1)\n",
    "    # A \n",
    "    press(\"L\")\n",
    "    # DELAY 1s\n",
    "    time.sleep(1)\n",
    "    # A \n",
    "    press(\"L\")\n",
    "    # DELAY 10s\n",
    "    time.sleep(20)\n",
    "    # A\n",
    "    press(\"L\")\n",
    "    # DELAY 3s\n",
    "    time.sleep(3)\n",
    "    # A\n",
    "    press(\"L\")\n",
    "    # DELAY 10s\n",
    "    time.sleep(10)\n",
    "    # A\n",
    "    press(\"L\")\n",
    "    # DELAY 2s\n",
    "    time.sleep(2)\n",
    "    # 1st text box detected 'Yulaaah'\n",
    "    _ = wait_for_text_box()\n",
    "    wait_for_text_box(wait_for_close=True)\n",
    "    # A\n",
    "    press(\"L\")\n",
    "    # 2nd text box detected - flash\n",
    "    _ = wait_for_text_box()\n",
    "    wait_for_text_box(wait_for_close=True)\n",
    "    # 3rd text box detected - 'You encountered a'\n",
    "    _ = wait_for_text_box()\n",
    "    wait_for_text_box(wait_for_close=True)\n",
    "\n",
    "    # 4th text box detected - 'Go on!'\n",
    "    delay = wait_for_text_box()\n",
    "    wait_for_text_box(wait_for_close=True)\n",
    "    print(f'delay: {delay}')\n",
    "    # detect time between 3rd and 4th \n",
    "    if delay > 1.5:\n",
    "        print('SHINY DECTECTED - MOVING TO INTERCEPT')\n",
    "        break"
   ]
  },
  {
   "cell_type": "code",
   "execution_count": 13,
   "metadata": {},
   "outputs": [],
   "source": [
    "time.sleep(2)\n",
    "press(\"[\")"
   ]
  },
  {
   "cell_type": "code",
   "execution_count": 16,
   "metadata": {},
   "outputs": [],
   "source": [
    "import keyboard \n",
    "time.sleep(3)\n",
    "keyboard.write('[')"
   ]
  }
 ],
 "metadata": {
  "kernelspec": {
   "display_name": "Python 3.10.4 ('venv': venv)",
   "language": "python",
   "name": "python3"
  },
  "language_info": {
   "codemirror_mode": {
    "name": "ipython",
    "version": 3
   },
   "file_extension": ".py",
   "mimetype": "text/x-python",
   "name": "python",
   "nbconvert_exporter": "python",
   "pygments_lexer": "ipython3",
   "version": "3.10.4"
  },
  "orig_nbformat": 4,
  "vscode": {
   "interpreter": {
    "hash": "fe13cf6fe9ef099f61808b128c1ea8743fed4050323d22ae11717cfb12cdbfba"
   }
  }
 },
 "nbformat": 4,
 "nbformat_minor": 2
}
