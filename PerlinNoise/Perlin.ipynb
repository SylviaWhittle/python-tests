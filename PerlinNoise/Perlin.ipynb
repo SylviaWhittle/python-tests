{
 "cells": [
  {
   "cell_type": "code",
   "execution_count": 8,
   "metadata": {},
   "outputs": [
    {
     "name": "stdout",
     "output_type": "stream",
     "text": [
      "Done\n"
     ]
    }
   ],
   "source": [
    "import random\n",
    "import numpy as np\n",
    "import matplotlib.pyplot as plt\n",
    "\n",
    "print(\"Done\")"
   ]
  },
  {
   "cell_type": "code",
   "execution_count": 188,
   "metadata": {},
   "outputs": [],
   "source": [
    "def perlin(x):\n",
    "    # Determine the cell that the point is between and fetch the values of the two cells\n",
    "    x0 = int(np.floor(x))\n",
    "    x1 = int(np.ceil(x))\n",
    "    y0 = randarray[x0]\n",
    "    y1 = randarray[x1]\n",
    "\n",
    "    # Cosine interpolation\n",
    "\n",
    "    cospix = np.cos((x - x0) * np.pi) \n",
    "    \n",
    "    mu2 = (1 - cospix)/2\n",
    "\n",
    "    intensity = y0 * (1 - mu2) + y1 * mu2\n",
    "\n",
    "    return intensity"
   ]
  },
  {
   "cell_type": "code",
   "execution_count": 320,
   "metadata": {},
   "outputs": [
    {
     "data": {
      "text/plain": [
       "<Figure size 4000x2000 with 0 Axes>"
      ]
     },
     "execution_count": 320,
     "metadata": {},
     "output_type": "execute_result"
    },
    {
     "data": {
      "image/png": "[encoded data removed]",
      "text/plain": [
       "<Figure size 432x288 with 1 Axes>"
      ]
     },
     "metadata": {
      "needs_background": "light"
     },
     "output_type": "display_data"
    },
    {
     "data": {
      "text/plain": [
       "<Figure size 4000x2000 with 0 Axes>"
      ]
     },
     "metadata": {},
     "output_type": "display_data"
    }
   ],
   "source": [
    "\n",
    "# Create random noise\n",
    "length = 10\n",
    "stepsize = 0.01\n",
    "\n",
    "randarray = np.random.rand(length)\n",
    "xs = np.arange(length)\n",
    "\n",
    "\n",
    "# Cosine interpolation\n",
    "xs_perlin = np.arange(0, len(randarray) - 1, stepsize)\n",
    "perlinArray = np.array([])\n",
    "for index, value in enumerate(xs_perlin):\n",
    "    perlinArray = np.append(perlinArray, perlin(value))\n",
    "\n",
    "\n",
    "\n",
    "plt.scatter(xs_perlin, perlinArray)\n",
    "plt.scatter(xs, randarray)\n",
    "plt.figure(figsize=(20, 10), dpi=200)\n"
   ]
  }
 ],
 "metadata": {
  "interpreter": {
   "hash": "aa56e580984b1a296971f30442bc61f958095fd323e4c40315b6131b45c51ee0"
  },
  "kernelspec": {
   "display_name": "Python 3.9.7 64-bit",
   "name": "python3"
  },
  "language_info": {
   "codemirror_mode": {
    "name": "ipython",
    "version": 3
   },
   "file_extension": ".py",
   "mimetype": "text/x-python",
   "name": "python",
   "nbconvert_exporter": "python",
   "pygments_lexer": "ipython3",
   "version": "3.9.7"
  },
  "orig_nbformat": 4
 },
 "nbformat": 4,
 "nbformat_minor": 2
}
