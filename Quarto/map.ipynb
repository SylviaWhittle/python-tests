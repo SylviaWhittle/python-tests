{
  "cells": [
    {
      "cell_type": "code",
      "metadata": {},
      "source": [
        "from ipyleaflet import Map, Marker, basemaps, basemap_to_tiles\n",
        "m = Map(\n",
        "  basemap=basemap_to_tiles(\n",
        "    basemaps.NASAGIBS.ModisTerraTrueColorCR, \"2017-04-08\"\n",
        "  ),\n",
        "  center=(52.204793, 360.121558),\n",
        "  zoom=4\n",
        ")\n",
        "m.add_layer(Marker(location=(52.204793, 360.121558)))\n",
        "m"
      ],
      "id": "9a651b04",
      "execution_count": null,
      "outputs": []
    }
  ],
  "metadata": {
    "kernelspec": {
      "name": "python3",
      "language": "python",
      "display_name": "Python 3 (ipykernel)"
    }
  },
  "nbformat": 4,
  "nbformat_minor": 5
}